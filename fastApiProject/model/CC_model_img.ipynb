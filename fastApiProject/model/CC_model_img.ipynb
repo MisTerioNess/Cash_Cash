{
 "cells": [
  {
   "cell_type": "code",
   "execution_count": 1,
   "metadata": {},
   "outputs": [],
   "source": [
    "import os\n",
    "from PIL import Image, ImageEnhance, ImageFilter\n",
    "import random\n",
    "import cv2\n",
    "import numpy as np\n",
    "import shutil"
   ]
  },
  {
   "attachments": {},
   "cell_type": "markdown",
   "metadata": {},
   "source": [
    "# Directory"
   ]
  },
  {
   "cell_type": "code",
   "execution_count": 61,
   "metadata": {},
   "outputs": [],
   "source": [
    "dir_name = \"cheque\"\n",
    "directory = \"C:/Users/joube/Desktop/CC_model/base_dataset/\" + dir_name"
   ]
  },
  {
   "attachments": {},
   "cell_type": "markdown",
   "metadata": {},
   "source": [
    "# Remove -200x200"
   ]
  },
  {
   "cell_type": "code",
   "execution_count": 62,
   "metadata": {},
   "outputs": [],
   "source": [
    "# Parcourir tous les fichiers dans le dossier\n",
    "for filename in os.listdir(directory):\n",
    "    if filename.endswith((('.png', '.jpg', '.jpeg', '.tiff', '.bmp', '.gif', 'jfif'))):\n",
    "        img_path = os.path.join(directory, filename)\n",
    "\n",
    "        try:\n",
    "            # Ouvrir l'image et obtenir ses dimensions\n",
    "            with Image.open(img_path) as img:\n",
    "                width, height = img.size\n",
    "\n",
    "            # Si l'une des dimensions est inférieure à 180, supprimer l'image\n",
    "            if width < 200 or height < 200:\n",
    "                os.remove(img_path)\n",
    "        except PermissionError:\n",
    "            print(f'Permission denied for {img_path}. The file might be in use.')"
   ]
  },
  {
   "attachments": {},
   "cell_type": "markdown",
   "metadata": {},
   "source": [
    "# Rezise 224x224"
   ]
  },
  {
   "cell_type": "code",
   "execution_count": 63,
   "metadata": {},
   "outputs": [],
   "source": [
    "for filename in os.listdir(directory):\n",
    "    if filename.endswith(('.png', '.jpg', '.jpeg', '.tiff', '.bmp', '.gif', 'jfif')):  # Ajouter ou modifier les extensions d'image selon vos besoins\n",
    "        img_path = os.path.join(directory, filename)\n",
    "        try:\n",
    "            with Image.open(img_path) as img:\n",
    "                new_img = img.resize((224, 224), Image.LANCZOS)  # Utiliser Image.LANCZOS pour une haute qualité de redimensionnement\n",
    "                new_img.save(img_path)\n",
    "        except Exception as e:\n",
    "            print(f\"Impossible de traiter l'image {img_path}. Raison: {e}\")"
   ]
  },
  {
   "attachments": {},
   "cell_type": "markdown",
   "metadata": {},
   "source": [
    "# Rename"
   ]
  },
  {
   "cell_type": "code",
   "execution_count": 64,
   "metadata": {},
   "outputs": [],
   "source": [
    "for i, filename in enumerate(os.listdir(directory), start=1):\n",
    "    if filename.lower().endswith(('.png', '.jpg', '.jpeg', '.tiff', '.bmp', '.gif', 'jfif')):\n",
    "        img = Image.open(os.path.join(directory, filename))\n",
    "        img.save(os.path.join(directory, f\"image{i}.png\"), 'PNG')  # Sauvegarder en format PNG\n",
    "        os.remove(os.path.join(directory, filename))  # Supprimer l'image originale"
   ]
  },
  {
   "attachments": {},
   "cell_type": "markdown",
   "metadata": {},
   "source": [
    "# Brightness"
   ]
  },
  {
   "cell_type": "code",
   "execution_count": 65,
   "metadata": {},
   "outputs": [],
   "source": [
    "for i, filename in enumerate(os.listdir(directory), start=1):\n",
    "    if filename.lower().endswith(('.png')):\n",
    "        img = Image.open(os.path.join(directory, filename))\n",
    "        enhancer = ImageEnhance.Brightness(img)\n",
    "        factor = random.uniform(0.5, 1.2)  # Générer un facteur de luminosité aléatoire\n",
    "        img_enhanced = enhancer.enhance(factor)\n",
    "        img_enhanced.save(os.path.join(directory, f\"image{i + 100}.png\"), 'PNG')  # Sauvegarder en format PNG"
   ]
  },
  {
   "attachments": {},
   "cell_type": "markdown",
   "metadata": {},
   "source": [
    "# Rotation"
   ]
  },
  {
   "cell_type": "code",
   "execution_count": 66,
   "metadata": {},
   "outputs": [],
   "source": [
    "for i, filename in enumerate(os.listdir(directory), start=1):\n",
    "    if filename.lower().endswith(('.png')):\n",
    "        img = Image.open(os.path.join(directory, filename))\n",
    "        angle = random.randint(0, 360)  # Générer un angle de rotation aléatoire\n",
    "        img_rotated = img.rotate(angle, fillcolor='white')\n",
    "        img_rotated.save(os.path.join(directory, f\"image{i + 200}.png\"), 'PNG')  # Sauvegarder en format PNG"
   ]
  },
  {
   "attachments": {},
   "cell_type": "markdown",
   "metadata": {},
   "source": [
    "# Zoom"
   ]
  },
  {
   "cell_type": "code",
   "execution_count": 67,
   "metadata": {},
   "outputs": [],
   "source": [
    "for i, filename in enumerate(os.listdir(directory), start=1):\n",
    "    if filename.lower().endswith(('.png')):\n",
    "        img = Image.open(os.path.join(directory, filename))\n",
    "        width, height = img.size\n",
    "        # Générer un facteur de redimensionnement aléatoire entre 0.9 (dézoom de 10%) et 1.1 (zoom de 10%)\n",
    "        resize_factor = random.uniform(0.5, 1.1)\n",
    "        # Calculer les nouvelles dimensions\n",
    "        new_width = int(width * resize_factor)\n",
    "        new_height = int(height * resize_factor)\n",
    "        # Redimensionner l'image\n",
    "        img_resized = img.resize((new_width, new_height))\n",
    "        # Sauvegarder l'image redimensionnée\n",
    "        img_resized.save(os.path.join(directory, f\"image{i + 400}.png\"), 'PNG')"
   ]
  },
  {
   "attachments": {},
   "cell_type": "markdown",
   "metadata": {},
   "source": [
    "# Flip"
   ]
  },
  {
   "cell_type": "code",
   "execution_count": 68,
   "metadata": {},
   "outputs": [],
   "source": [
    "for i, filename in enumerate(os.listdir(directory), start=1):\n",
    "    if filename.lower().endswith(('.png')):\n",
    "        img = Image.open(os.path.join(directory, filename))\n",
    "        # Choisir un flip aléatoire : 0 pour un flip horizontal, 1 pour un flip vertical\n",
    "        flip_type = random.choice([0, 1])\n",
    "        if flip_type == 0:\n",
    "            # Flip horizontal\n",
    "            img_flipped = img.transpose(Image.FLIP_LEFT_RIGHT)\n",
    "        else:\n",
    "            # Flip vertical\n",
    "            img_flipped = img.transpose(Image.FLIP_TOP_BOTTOM)\n",
    "        # Sauvegarder l'image renversée\n",
    "        img_flipped.save(os.path.join(directory, f\"image{i + 800}.png\"), 'PNG')"
   ]
  },
  {
   "attachments": {},
   "cell_type": "markdown",
   "metadata": {},
   "source": [
    "# SHARPEN"
   ]
  },
  {
   "cell_type": "code",
   "execution_count": 69,
   "metadata": {},
   "outputs": [],
   "source": [
    "for i, filename in enumerate(os.listdir(directory), start=1):\n",
    "    if filename.lower().endswith(('.png')):\n",
    "        img = Image.open(os.path.join(directory, filename))\n",
    "        # Filtre de netteté\n",
    "        img_filtered = img.filter(ImageFilter.SHARPEN)\n",
    "        # Sauvegarder l'image filtrée\n",
    "        img_filtered.save(os.path.join(directory, f\"image{i + 1600}.png\"), 'PNG')"
   ]
  },
  {
   "attachments": {},
   "cell_type": "markdown",
   "metadata": {},
   "source": [
    "# Split"
   ]
  },
  {
   "cell_type": "code",
   "execution_count": 70,
   "metadata": {},
   "outputs": [],
   "source": [
    "def split_data(src_directory, train_directory, test_directory, validation_directory, train_ratio=0.7, test_ratio=0.15):\n",
    "    files = os.listdir(src_directory)\n",
    "    np.random.shuffle(files)\n",
    "\n",
    "    train_files = files[:int(len(files)*train_ratio)]\n",
    "    test_files = files[int(len(files)*train_ratio):int(len(files)*(train_ratio+test_ratio))]\n",
    "    validation_files = files[int(len(files)*(train_ratio+test_ratio)):]\n",
    "\n",
    "    for file_name in train_files:\n",
    "        shutil.move(os.path.join(src_directory, file_name), os.path.join(train_directory, file_name))\n",
    "\n",
    "    for file_name in test_files:\n",
    "        shutil.move(os.path.join(src_directory, file_name), os.path.join(test_directory, file_name))\n",
    "\n",
    "    for file_name in validation_files:\n",
    "        shutil.move(os.path.join(src_directory, file_name), os.path.join(validation_directory, file_name))\n",
    "\n",
    "# Exemple d'utilisation :\n",
    "train_directory = \"C:/Users/joube/Desktop/CC_model/full_dataset/train/\" + dir_name\n",
    "test_directory = \"C:/Users/joube/Desktop/CC_model/full_dataset/test/\" + dir_name\n",
    "validation_directory = \"C:/Users/joube/Desktop/CC_model/full_dataset/validation/\" + dir_name\n",
    "split_data(directory, train_directory, test_directory, validation_directory)"
   ]
  }
 ],
 "metadata": {
  "kernelspec": {
   "display_name": "Python 3",
   "language": "python",
   "name": "python3"
  },
  "language_info": {
   "codemirror_mode": {
    "name": "ipython",
    "version": 3
   },
   "file_extension": ".py",
   "mimetype": "text/x-python",
   "name": "python",
   "nbconvert_exporter": "python",
   "pygments_lexer": "ipython3",
   "version": "3.11.4"
  },
  "orig_nbformat": 4
 },
 "nbformat": 4,
 "nbformat_minor": 2
}
