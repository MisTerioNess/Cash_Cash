{
  "cells": [
    {
      "cell_type": "code",
      "execution_count": null,
      "metadata": {
        "id": "LvlpDzoLhrbl"
      },
      "outputs": [],
      "source": [
        "!pip install keras-tuner\n",
        "import tensorflow as tf\n",
        "from tensorflow.keras.preprocessing.image import ImageDataGenerator\n",
        "from tensorflow.keras.preprocessing import image\n",
        "import numpy as np\n",
        "from keras_tuner import HyperModel, RandomSearch\n",
        "from tensorflow.keras.layers import Conv2D, MaxPooling2D, Flatten, Dense\n",
        "from tensorflow.keras.models import Sequential\n",
        "from tensorflow.keras.optimizers import Adamax\n",
        "from tensorflow.keras.regularizers import l2\n",
        "from tensorflow.keras.callbacks import EarlyStopping, ModelCheckpoint  # Ajout de ModelCheckpoint\n",
        "from tensorflow.keras.applications import MobileNet\n",
        "from tensorflow.keras.layers import Dropout\n",
        "from tensorflow.keras.callbacks import LearningRateScheduler\n",
        "from google.colab import drive\n",
        "import os"
      ]
    },
    {
      "cell_type": "code",
      "source": [
        "drive.mount('/content/drive')"
      ],
      "metadata": {
        "id": "Ddsz1taDTA71",
        "colab": {
          "base_uri": "https://localhost:8080/"
        },
        "outputId": "f80a8f67-fc28-457f-950e-94fc9f017e5f"
      },
      "execution_count": null,
      "outputs": [
        {
          "output_type": "stream",
          "name": "stdout",
          "text": [
            "Drive already mounted at /content/drive; to attempt to forcibly remount, call drive.mount(\"/content/drive\", force_remount=True).\n"
          ]
        }
      ]
    },
    {
      "cell_type": "code",
      "source": [
        "import os\n",
        "\n",
        "def count_elements_in_subfolders(folder_path):\n",
        "    if not os.path.isdir(folder_path):\n",
        "        print(\"Le chemin spécifié n'est pas un dossier valide.\")\n",
        "        return\n",
        "\n",
        "    num_elements = 0\n",
        "\n",
        "    for root, dirs, files in os.walk(folder_path):\n",
        "        for directory in dirs:\n",
        "            directory_path = os.path.join(root, directory)\n",
        "            elements = os.listdir(directory_path)\n",
        "            num_elements_in_directory = len(elements)\n",
        "            num_elements += num_elements_in_directory\n",
        "            print(f\"Le sous-dossier '{directory_path}' contient {num_elements_in_directory} élément(s).\")\n",
        "\n",
        "    print(f\"\\nAu total, les sous-dossiers du dossier '{folder_path}' contiennent {num_elements} élément(s).\")\n",
        "\n",
        "# Exemple d'utilisation\n",
        "folder_path = \"/content/drive/MyDrive/COURS/CC_model/dataset\"\n",
        "count_elements_in_subfolders(folder_path)"
      ],
      "metadata": {
        "id": "m50JxgWG-lS-",
        "colab": {
          "base_uri": "https://localhost:8080/"
        },
        "outputId": "63d55cc7-fecc-44aa-eb4f-2f35c758e360"
      },
      "execution_count": null,
      "outputs": [
        {
          "output_type": "stream",
          "name": "stdout",
          "text": [
            "Le sous-dossier '/content/drive/MyDrive/COURS/CC_model/dataset/train' contient 16 élément(s).\n",
            "Le sous-dossier '/content/drive/MyDrive/COURS/CC_model/dataset/test' contient 16 élément(s).\n",
            "Le sous-dossier '/content/drive/MyDrive/COURS/CC_model/dataset/validation' contient 16 élément(s).\n",
            "Le sous-dossier '/content/drive/MyDrive/COURS/CC_model/dataset/train/2c' contient 2240 élément(s).\n",
            "Le sous-dossier '/content/drive/MyDrive/COURS/CC_model/dataset/train/1c' contient 2240 élément(s).\n",
            "Le sous-dossier '/content/drive/MyDrive/COURS/CC_model/dataset/train/2e' contient 2240 élément(s).\n",
            "Le sous-dossier '/content/drive/MyDrive/COURS/CC_model/dataset/train/1e' contient 2240 élément(s).\n",
            "Le sous-dossier '/content/drive/MyDrive/COURS/CC_model/dataset/train/5c' contient 2240 élément(s).\n",
            "Le sous-dossier '/content/drive/MyDrive/COURS/CC_model/dataset/train/5e' contient 2240 élément(s).\n",
            "Le sous-dossier '/content/drive/MyDrive/COURS/CC_model/dataset/train/10c' contient 2240 élément(s).\n",
            "Le sous-dossier '/content/drive/MyDrive/COURS/CC_model/dataset/train/10e' contient 2240 élément(s).\n",
            "Le sous-dossier '/content/drive/MyDrive/COURS/CC_model/dataset/train/20c' contient 2240 élément(s).\n",
            "Le sous-dossier '/content/drive/MyDrive/COURS/CC_model/dataset/train/20e' contient 2240 élément(s).\n",
            "Le sous-dossier '/content/drive/MyDrive/COURS/CC_model/dataset/train/50e' contient 2240 élément(s).\n",
            "Le sous-dossier '/content/drive/MyDrive/COURS/CC_model/dataset/train/100e' contient 2240 élément(s).\n",
            "Le sous-dossier '/content/drive/MyDrive/COURS/CC_model/dataset/train/200e' contient 2240 élément(s).\n",
            "Le sous-dossier '/content/drive/MyDrive/COURS/CC_model/dataset/train/500e' contient 2240 élément(s).\n",
            "Le sous-dossier '/content/drive/MyDrive/COURS/CC_model/dataset/train/cheque' contient 2240 élément(s).\n",
            "Le sous-dossier '/content/drive/MyDrive/COURS/CC_model/dataset/train/50c' contient 2240 élément(s).\n",
            "Le sous-dossier '/content/drive/MyDrive/COURS/CC_model/dataset/test/10c' contient 480 élément(s).\n",
            "Le sous-dossier '/content/drive/MyDrive/COURS/CC_model/dataset/test/5c' contient 480 élément(s).\n",
            "Le sous-dossier '/content/drive/MyDrive/COURS/CC_model/dataset/test/5e' contient 480 élément(s).\n",
            "Le sous-dossier '/content/drive/MyDrive/COURS/CC_model/dataset/test/20c' contient 480 élément(s).\n",
            "Le sous-dossier '/content/drive/MyDrive/COURS/CC_model/dataset/test/2e' contient 480 élément(s).\n",
            "Le sous-dossier '/content/drive/MyDrive/COURS/CC_model/dataset/test/20e' contient 480 élément(s).\n",
            "Le sous-dossier '/content/drive/MyDrive/COURS/CC_model/dataset/test/10e' contient 480 élément(s).\n",
            "Le sous-dossier '/content/drive/MyDrive/COURS/CC_model/dataset/test/1e' contient 480 élément(s).\n",
            "Le sous-dossier '/content/drive/MyDrive/COURS/CC_model/dataset/test/50e' contient 480 élément(s).\n",
            "Le sous-dossier '/content/drive/MyDrive/COURS/CC_model/dataset/test/50c' contient 480 élément(s).\n",
            "Le sous-dossier '/content/drive/MyDrive/COURS/CC_model/dataset/test/100e' contient 480 élément(s).\n",
            "Le sous-dossier '/content/drive/MyDrive/COURS/CC_model/dataset/test/200e' contient 480 élément(s).\n",
            "Le sous-dossier '/content/drive/MyDrive/COURS/CC_model/dataset/test/cheque' contient 480 élément(s).\n",
            "Le sous-dossier '/content/drive/MyDrive/COURS/CC_model/dataset/test/500e' contient 480 élément(s).\n",
            "Le sous-dossier '/content/drive/MyDrive/COURS/CC_model/dataset/test/1c' contient 480 élément(s).\n",
            "Le sous-dossier '/content/drive/MyDrive/COURS/CC_model/dataset/test/2c' contient 480 élément(s).\n",
            "Le sous-dossier '/content/drive/MyDrive/COURS/CC_model/dataset/validation/5c' contient 480 élément(s).\n",
            "Le sous-dossier '/content/drive/MyDrive/COURS/CC_model/dataset/validation/10c' contient 480 élément(s).\n",
            "Le sous-dossier '/content/drive/MyDrive/COURS/CC_model/dataset/validation/5e' contient 480 élément(s).\n",
            "Le sous-dossier '/content/drive/MyDrive/COURS/CC_model/dataset/validation/10e' contient 480 élément(s).\n",
            "Le sous-dossier '/content/drive/MyDrive/COURS/CC_model/dataset/validation/20c' contient 480 élément(s).\n",
            "Le sous-dossier '/content/drive/MyDrive/COURS/CC_model/dataset/validation/20e' contient 480 élément(s).\n",
            "Le sous-dossier '/content/drive/MyDrive/COURS/CC_model/dataset/validation/50e' contient 480 élément(s).\n",
            "Le sous-dossier '/content/drive/MyDrive/COURS/CC_model/dataset/validation/50c' contient 480 élément(s).\n",
            "Le sous-dossier '/content/drive/MyDrive/COURS/CC_model/dataset/validation/100e' contient 480 élément(s).\n",
            "Le sous-dossier '/content/drive/MyDrive/COURS/CC_model/dataset/validation/200e' contient 480 élément(s).\n",
            "Le sous-dossier '/content/drive/MyDrive/COURS/CC_model/dataset/validation/500e' contient 480 élément(s).\n",
            "Le sous-dossier '/content/drive/MyDrive/COURS/CC_model/dataset/validation/cheque' contient 480 élément(s).\n",
            "Le sous-dossier '/content/drive/MyDrive/COURS/CC_model/dataset/validation/1c' contient 480 élément(s).\n",
            "Le sous-dossier '/content/drive/MyDrive/COURS/CC_model/dataset/validation/1e' contient 480 élément(s).\n",
            "Le sous-dossier '/content/drive/MyDrive/COURS/CC_model/dataset/validation/2c' contient 480 élément(s).\n",
            "Le sous-dossier '/content/drive/MyDrive/COURS/CC_model/dataset/validation/2e' contient 480 élément(s).\n",
            "\n",
            "Au total, les sous-dossiers du dossier '/content/drive/MyDrive/COURS/CC_model/dataset' contiennent 51248 élément(s).\n"
          ]
        }
      ]
    },
    {
      "cell_type": "code",
      "execution_count": null,
      "metadata": {
        "id": "Ui6vXhd7hrbo"
      },
      "outputs": [],
      "source": [
        "IMG_HEIGHT, IMG_WIDTH = 224, 224  # Dimensions de l'image après redimensionnement\n",
        "BATCH_SIZE = 32  # Taille du lot pour le training\n",
        "EPOCHS = 5  # Nombre d'époques pour le training\n",
        "nb_de_classes = 16\n",
        "trials = EPOCHS"
      ]
    },
    {
      "cell_type": "code",
      "execution_count": null,
      "metadata": {
        "id": "UCRHxghXhrbp"
      },
      "outputs": [],
      "source": [
        "TRAINING_DIR = '/content/drive/MyDrive/COURS/CC_model/dataset/train'\n",
        "VALIDATION_DIR = '/content/drive/MyDrive/COURS/CC_model/dataset/validation'\n",
        "TEST_DIR = '/content/drive/MyDrive/COURS/CC_model/dataset/test'"
      ]
    },
    {
      "cell_type": "code",
      "execution_count": null,
      "metadata": {
        "id": "Zy-i2q8ahrbq"
      },
      "outputs": [],
      "source": [
        "train_datagen = ImageDataGenerator(\n",
        "    rescale=1./255,\n",
        "    rotation_range=20,\n",
        "    width_shift_range=0.2,\n",
        "    height_shift_range=0.2,\n",
        "    shear_range=0.2,\n",
        "    zoom_range=0.2,\n",
        "    horizontal_flip=True,\n",
        "    fill_mode='nearest'\n",
        ")\n",
        "\n",
        "validation_datagen = ImageDataGenerator(rescale=1./255)\n",
        "test_datagen = ImageDataGenerator(rescale=1./255)"
      ]
    },
    {
      "cell_type": "code",
      "execution_count": null,
      "metadata": {
        "id": "b1Lj5IDahrbq",
        "colab": {
          "base_uri": "https://localhost:8080/"
        },
        "outputId": "efc8778a-de05-4786-faf7-9edb9ed3f21f"
      },
      "outputs": [
        {
          "output_type": "stream",
          "name": "stdout",
          "text": [
            "Found 35840 images belonging to 16 classes.\n",
            "Found 7680 images belonging to 16 classes.\n",
            "Found 7680 images belonging to 16 classes.\n"
          ]
        }
      ],
      "source": [
        "train_generator = train_datagen.flow_from_directory(\n",
        "    TRAINING_DIR,\n",
        "    target_size=(IMG_HEIGHT, IMG_WIDTH),\n",
        "    batch_size=BATCH_SIZE,\n",
        "    class_mode='categorical',\n",
        "    subset='training'\n",
        ")\n",
        "\n",
        "validation_generator = validation_datagen.flow_from_directory(\n",
        "    VALIDATION_DIR,\n",
        "    target_size=(IMG_HEIGHT, IMG_WIDTH),\n",
        "    batch_size=BATCH_SIZE,\n",
        "    class_mode='categorical',\n",
        ")\n",
        "\n",
        "test_generator = test_datagen.flow_from_directory(\n",
        "    TEST_DIR,\n",
        "    target_size=(IMG_HEIGHT, IMG_WIDTH),\n",
        "    batch_size=BATCH_SIZE,\n",
        "    class_mode='categorical',\n",
        "    shuffle=False\n",
        ")"
      ]
    },
    {
      "cell_type": "code",
      "execution_count": null,
      "metadata": {
        "id": "TsABaL-Mhrbr"
      },
      "outputs": [],
      "source": [
        "# Initialisation du callback EarlyStopping\n",
        "early_stop = EarlyStopping(monitor='val_loss', patience=3)\n",
        "\n",
        "# Ajout du callback dans la liste des callbacks pour l'entraînement\n",
        "callbacks = [early_stop]\n",
        "\n",
        "# Définition du callback ModelCheckpoint\n",
        "model_checkpoint_callback = ModelCheckpoint(\n",
        "    filepath='/content/drive/MyDrive/COURS/CC_model/Ely.h5',\n",
        "    save_weights_only=False,  # Change to False to save the entire model\n",
        "    monitor='val_accuracy',\n",
        "    mode='max',\n",
        "    save_best_only=True)\n",
        "\n",
        "callbacks.append(model_checkpoint_callback)\n",
        "\n",
        "# Ajout de la régularisation à votre modèle\n",
        "class MyHyperModel(HyperModel):\n",
        "    def __init__(self, input_shape, num_classes):\n",
        "        self.input_shape = input_shape\n",
        "        self.num_classes = num_classes\n",
        "\n",
        "    def build(self, hp):\n",
        "        # Définition du modèle\n",
        "        base_model = MobileNet(weights='imagenet', include_top=False, input_shape=self.input_shape)\n",
        "        for layer in base_model.layers[:-4]:  # Unfreeze the last 4 layers for fine-tuning\n",
        "            layer.trainable = False\n",
        "\n",
        "        model = Sequential()\n",
        "        model.add(base_model)\n",
        "        model.add(Flatten())\n",
        "        model.add(Dense(hp.Int('units', min_value=32, max_value=512, step=32), activation='relu', kernel_regularizer=l2(0.01), bias_regularizer=l2(0.01)))  # Tune the number of neurons\n",
        "        model.add(Dropout(hp.Float('dropout', min_value=0.0, max_value=0.5, step=0.1)))  # Tune the dropout rate\n",
        "        model.add(Dense(self.num_classes, activation='softmax'))\n",
        "\n",
        "        model.compile(\n",
        "            optimizer=Adamax(\n",
        "                hp.Float('learning_rate', min_value=1e-5, max_value=1e-2, sampling='LOG')\n",
        "            ),\n",
        "            loss='categorical_crossentropy',\n",
        "            metrics=['accuracy']\n",
        "        )\n",
        "\n",
        "        return model\n",
        "\n",
        "# Define the learning rate scheduler function\n",
        "def scheduler(epoch, lr):\n",
        "    if epoch < 10:\n",
        "        return lr\n",
        "    else:\n",
        "        return lr * tf.math.exp(-0.1)\n",
        "\n",
        "lr_callback = LearningRateScheduler(scheduler)\n",
        "\n",
        "callbacks = [early_stop, lr_callback]"
      ]
    },
    {
      "cell_type": "code",
      "execution_count": null,
      "metadata": {
        "id": "u7DlYLMihrbs",
        "colab": {
          "base_uri": "https://localhost:8080/",
          "height": 1000
        },
        "outputId": "681e39ee-fc8b-40ea-d5bd-1177631c6caa"
      },
      "outputs": [
        {
          "output_type": "stream",
          "name": "stdout",
          "text": [
            "Trial 3 Complete [00h 00m 01s]\n",
            "\n",
            "Best val_accuracy So Far: 0.7997395992279053\n",
            "Total elapsed time: 00h 22m 27s\n",
            "\n",
            "Search: Running Trial #4\n",
            "\n",
            "Value             |Best Value So Far |Hyperparameter\n",
            "96                |288               |units\n",
            "0                 |0.1               |dropout\n",
            "1.1726e-05        |2.2032e-05        |learning_rate\n",
            "\n"
          ]
        },
        {
          "output_type": "stream",
          "name": "stderr",
          "text": [
            "Traceback (most recent call last):\n",
            "  File \"/usr/local/lib/python3.10/dist-packages/keras_tuner/engine/base_tuner.py\", line 270, in _try_run_and_update_trial\n",
            "    self._run_and_update_trial(trial, *fit_args, **fit_kwargs)\n",
            "  File \"/usr/local/lib/python3.10/dist-packages/keras_tuner/engine/base_tuner.py\", line 235, in _run_and_update_trial\n",
            "    results = self.run_trial(trial, *fit_args, **fit_kwargs)\n",
            "  File \"/usr/local/lib/python3.10/dist-packages/keras_tuner/engine/tuner.py\", line 287, in run_trial\n",
            "    obj_value = self._build_and_fit_model(trial, *args, **copied_kwargs)\n",
            "  File \"/usr/local/lib/python3.10/dist-packages/keras_tuner/engine/tuner.py\", line 214, in _build_and_fit_model\n",
            "    results = self.hypermodel.fit(hp, model, *args, **kwargs)\n",
            "  File \"/usr/local/lib/python3.10/dist-packages/keras_tuner/engine/hypermodel.py\", line 144, in fit\n",
            "    return model.fit(*args, **kwargs)\n",
            "  File \"/usr/local/lib/python3.10/dist-packages/keras/utils/traceback_utils.py\", line 70, in error_handler\n",
            "    raise e.with_traceback(filtered_tb) from None\n",
            "  File \"/usr/local/lib/python3.10/dist-packages/keras/utils/image_utils.py\", line 422, in load_img\n",
            "    with open(path, \"rb\") as f:\n",
            "FileNotFoundError: [Errno 2] No such file or directory: '/content/drive/MyDrive/COURS/CC_model/dataset/train/200e/image1099.png'\n"
          ]
        },
        {
          "output_type": "error",
          "ename": "RuntimeError",
          "evalue": "ignored",
          "traceback": [
            "\u001b[0;31m---------------------------------------------------------------------------\u001b[0m",
            "\u001b[0;31mRuntimeError\u001b[0m                              Traceback (most recent call last)",
            "\u001b[0;32m<ipython-input-43-ac93bf9eae71>\u001b[0m in \u001b[0;36m<cell line: 11>\u001b[0;34m()\u001b[0m\n\u001b[1;32m      9\u001b[0m )\n\u001b[1;32m     10\u001b[0m \u001b[0;34m\u001b[0m\u001b[0m\n\u001b[0;32m---> 11\u001b[0;31m \u001b[0mtuner\u001b[0m\u001b[0;34m.\u001b[0m\u001b[0msearch\u001b[0m\u001b[0;34m(\u001b[0m\u001b[0mtrain_generator\u001b[0m\u001b[0;34m,\u001b[0m \u001b[0mvalidation_data\u001b[0m\u001b[0;34m=\u001b[0m\u001b[0mvalidation_generator\u001b[0m\u001b[0;34m,\u001b[0m \u001b[0mepochs\u001b[0m\u001b[0;34m=\u001b[0m\u001b[0mEPOCHS\u001b[0m\u001b[0;34m,\u001b[0m \u001b[0mcallbacks\u001b[0m\u001b[0;34m=\u001b[0m\u001b[0mcallbacks\u001b[0m\u001b[0;34m)\u001b[0m  \u001b[0;31m# Ajoutez vos callbacks ici\u001b[0m\u001b[0;34m\u001b[0m\u001b[0;34m\u001b[0m\u001b[0m\n\u001b[0m",
            "\u001b[0;32m/usr/local/lib/python3.10/dist-packages/keras_tuner/engine/base_tuner.py\u001b[0m in \u001b[0;36msearch\u001b[0;34m(self, *fit_args, **fit_kwargs)\u001b[0m\n\u001b[1;32m    229\u001b[0m             \u001b[0mself\u001b[0m\u001b[0;34m.\u001b[0m\u001b[0mon_trial_begin\u001b[0m\u001b[0;34m(\u001b[0m\u001b[0mtrial\u001b[0m\u001b[0;34m)\u001b[0m\u001b[0;34m\u001b[0m\u001b[0;34m\u001b[0m\u001b[0m\n\u001b[1;32m    230\u001b[0m             \u001b[0mself\u001b[0m\u001b[0;34m.\u001b[0m\u001b[0m_try_run_and_update_trial\u001b[0m\u001b[0;34m(\u001b[0m\u001b[0mtrial\u001b[0m\u001b[0;34m,\u001b[0m \u001b[0;34m*\u001b[0m\u001b[0mfit_args\u001b[0m\u001b[0;34m,\u001b[0m \u001b[0;34m**\u001b[0m\u001b[0mfit_kwargs\u001b[0m\u001b[0;34m)\u001b[0m\u001b[0;34m\u001b[0m\u001b[0;34m\u001b[0m\u001b[0m\n\u001b[0;32m--> 231\u001b[0;31m             \u001b[0mself\u001b[0m\u001b[0;34m.\u001b[0m\u001b[0mon_trial_end\u001b[0m\u001b[0;34m(\u001b[0m\u001b[0mtrial\u001b[0m\u001b[0;34m)\u001b[0m\u001b[0;34m\u001b[0m\u001b[0;34m\u001b[0m\u001b[0m\n\u001b[0m\u001b[1;32m    232\u001b[0m         \u001b[0mself\u001b[0m\u001b[0;34m.\u001b[0m\u001b[0mon_search_end\u001b[0m\u001b[0;34m(\u001b[0m\u001b[0;34m)\u001b[0m\u001b[0;34m\u001b[0m\u001b[0;34m\u001b[0m\u001b[0m\n\u001b[1;32m    233\u001b[0m \u001b[0;34m\u001b[0m\u001b[0m\n",
            "\u001b[0;32m/usr/local/lib/python3.10/dist-packages/keras_tuner/engine/base_tuner.py\u001b[0m in \u001b[0;36mon_trial_end\u001b[0;34m(self, trial)\u001b[0m\n\u001b[1;32m    333\u001b[0m             \u001b[0mtrial\u001b[0m\u001b[0;34m:\u001b[0m \u001b[0mA\u001b[0m\u001b[0;31m \u001b[0m\u001b[0;31m`\u001b[0m\u001b[0mTrial\u001b[0m\u001b[0;31m`\u001b[0m \u001b[0minstance\u001b[0m\u001b[0;34m.\u001b[0m\u001b[0;34m\u001b[0m\u001b[0;34m\u001b[0m\u001b[0m\n\u001b[1;32m    334\u001b[0m         \"\"\"\n\u001b[0;32m--> 335\u001b[0;31m         \u001b[0mself\u001b[0m\u001b[0;34m.\u001b[0m\u001b[0moracle\u001b[0m\u001b[0;34m.\u001b[0m\u001b[0mend_trial\u001b[0m\u001b[0;34m(\u001b[0m\u001b[0mtrial\u001b[0m\u001b[0;34m)\u001b[0m\u001b[0;34m\u001b[0m\u001b[0;34m\u001b[0m\u001b[0m\n\u001b[0m\u001b[1;32m    336\u001b[0m         \u001b[0;31m# Display needs the updated trial scored by the Oracle.\u001b[0m\u001b[0;34m\u001b[0m\u001b[0;34m\u001b[0m\u001b[0m\n\u001b[1;32m    337\u001b[0m         \u001b[0mself\u001b[0m\u001b[0;34m.\u001b[0m\u001b[0m_display\u001b[0m\u001b[0;34m.\u001b[0m\u001b[0mon_trial_end\u001b[0m\u001b[0;34m(\u001b[0m\u001b[0mself\u001b[0m\u001b[0;34m.\u001b[0m\u001b[0moracle\u001b[0m\u001b[0;34m.\u001b[0m\u001b[0mget_trial\u001b[0m\u001b[0;34m(\u001b[0m\u001b[0mtrial\u001b[0m\u001b[0;34m.\u001b[0m\u001b[0mtrial_id\u001b[0m\u001b[0;34m)\u001b[0m\u001b[0;34m)\u001b[0m\u001b[0;34m\u001b[0m\u001b[0;34m\u001b[0m\u001b[0m\n",
            "\u001b[0;32m/usr/local/lib/python3.10/dist-packages/keras_tuner/engine/oracle.py\u001b[0m in \u001b[0;36mwrapped_func\u001b[0;34m(*args, **kwargs)\u001b[0m\n\u001b[1;32m    105\u001b[0m             \u001b[0mLOCKS\u001b[0m\u001b[0;34m[\u001b[0m\u001b[0moracle\u001b[0m\u001b[0;34m]\u001b[0m\u001b[0;34m.\u001b[0m\u001b[0macquire\u001b[0m\u001b[0;34m(\u001b[0m\u001b[0;34m)\u001b[0m\u001b[0;34m\u001b[0m\u001b[0;34m\u001b[0m\u001b[0m\n\u001b[1;32m    106\u001b[0m             \u001b[0mTHREADS\u001b[0m\u001b[0;34m[\u001b[0m\u001b[0moracle\u001b[0m\u001b[0;34m]\u001b[0m \u001b[0;34m=\u001b[0m \u001b[0mthread_name\u001b[0m\u001b[0;34m\u001b[0m\u001b[0;34m\u001b[0m\u001b[0m\n\u001b[0;32m--> 107\u001b[0;31m         \u001b[0mret_val\u001b[0m \u001b[0;34m=\u001b[0m \u001b[0mfunc\u001b[0m\u001b[0;34m(\u001b[0m\u001b[0;34m*\u001b[0m\u001b[0margs\u001b[0m\u001b[0;34m,\u001b[0m \u001b[0;34m**\u001b[0m\u001b[0mkwargs\u001b[0m\u001b[0;34m)\u001b[0m\u001b[0;34m\u001b[0m\u001b[0;34m\u001b[0m\u001b[0m\n\u001b[0m\u001b[1;32m    108\u001b[0m         \u001b[0;32mif\u001b[0m \u001b[0mneed_acquire\u001b[0m\u001b[0;34m:\u001b[0m\u001b[0;34m\u001b[0m\u001b[0;34m\u001b[0m\u001b[0m\n\u001b[1;32m    109\u001b[0m             \u001b[0mTHREADS\u001b[0m\u001b[0;34m[\u001b[0m\u001b[0moracle\u001b[0m\u001b[0;34m]\u001b[0m \u001b[0;34m=\u001b[0m \u001b[0;32mNone\u001b[0m\u001b[0;34m\u001b[0m\u001b[0;34m\u001b[0m\u001b[0m\n",
            "\u001b[0;32m/usr/local/lib/python3.10/dist-packages/keras_tuner/engine/oracle.py\u001b[0m in \u001b[0;36mend_trial\u001b[0;34m(self, trial)\u001b[0m\n\u001b[1;32m    432\u001b[0m         \u001b[0;32mif\u001b[0m \u001b[0;32mnot\u001b[0m \u001b[0mself\u001b[0m\u001b[0;34m.\u001b[0m\u001b[0m_retry\u001b[0m\u001b[0;34m(\u001b[0m\u001b[0mtrial\u001b[0m\u001b[0;34m)\u001b[0m\u001b[0;34m:\u001b[0m\u001b[0;34m\u001b[0m\u001b[0;34m\u001b[0m\u001b[0m\n\u001b[1;32m    433\u001b[0m             \u001b[0mself\u001b[0m\u001b[0;34m.\u001b[0m\u001b[0mend_order\u001b[0m\u001b[0;34m.\u001b[0m\u001b[0mappend\u001b[0m\u001b[0;34m(\u001b[0m\u001b[0mtrial\u001b[0m\u001b[0;34m.\u001b[0m\u001b[0mtrial_id\u001b[0m\u001b[0;34m)\u001b[0m\u001b[0;34m\u001b[0m\u001b[0;34m\u001b[0m\u001b[0m\n\u001b[0;32m--> 434\u001b[0;31m             \u001b[0mself\u001b[0m\u001b[0;34m.\u001b[0m\u001b[0m_check_consecutive_failures\u001b[0m\u001b[0;34m(\u001b[0m\u001b[0;34m)\u001b[0m\u001b[0;34m\u001b[0m\u001b[0;34m\u001b[0m\u001b[0m\n\u001b[0m\u001b[1;32m    435\u001b[0m \u001b[0;34m\u001b[0m\u001b[0m\n\u001b[1;32m    436\u001b[0m         \u001b[0mself\u001b[0m\u001b[0;34m.\u001b[0m\u001b[0m_save_trial\u001b[0m\u001b[0;34m(\u001b[0m\u001b[0mtrial\u001b[0m\u001b[0;34m)\u001b[0m\u001b[0;34m\u001b[0m\u001b[0;34m\u001b[0m\u001b[0m\n",
            "\u001b[0;32m/usr/local/lib/python3.10/dist-packages/keras_tuner/engine/oracle.py\u001b[0m in \u001b[0;36m_check_consecutive_failures\u001b[0;34m(self)\u001b[0m\n\u001b[1;32m    384\u001b[0m                 \u001b[0mconsecutive_failures\u001b[0m \u001b[0;34m=\u001b[0m \u001b[0;36m0\u001b[0m\u001b[0;34m\u001b[0m\u001b[0;34m\u001b[0m\u001b[0m\n\u001b[1;32m    385\u001b[0m             \u001b[0;32mif\u001b[0m \u001b[0mconsecutive_failures\u001b[0m \u001b[0;34m==\u001b[0m \u001b[0mself\u001b[0m\u001b[0;34m.\u001b[0m\u001b[0mmax_consecutive_failed_trials\u001b[0m\u001b[0;34m:\u001b[0m\u001b[0;34m\u001b[0m\u001b[0;34m\u001b[0m\u001b[0m\n\u001b[0;32m--> 386\u001b[0;31m                 raise RuntimeError(\n\u001b[0m\u001b[1;32m    387\u001b[0m                     \u001b[0;34m\"Number of consecutive failures excceeded the limit \"\u001b[0m\u001b[0;34m\u001b[0m\u001b[0;34m\u001b[0m\u001b[0m\n\u001b[1;32m    388\u001b[0m                     \u001b[0;34mf\"of {self.max_consecutive_failed_trials}.\\n\"\u001b[0m\u001b[0;34m\u001b[0m\u001b[0;34m\u001b[0m\u001b[0m\n",
            "\u001b[0;31mRuntimeError\u001b[0m: Number of consecutive failures excceeded the limit of 3.\nTraceback (most recent call last):\n  File \"/usr/local/lib/python3.10/dist-packages/keras_tuner/engine/base_tuner.py\", line 270, in _try_run_and_update_trial\n    self._run_and_update_trial(trial, *fit_args, **fit_kwargs)\n  File \"/usr/local/lib/python3.10/dist-packages/keras_tuner/engine/base_tuner.py\", line 235, in _run_and_update_trial\n    results = self.run_trial(trial, *fit_args, **fit_kwargs)\n  File \"/usr/local/lib/python3.10/dist-packages/keras_tuner/engine/tuner.py\", line 287, in run_trial\n    obj_value = self._build_and_fit_model(trial, *args, **copied_kwargs)\n  File \"/usr/local/lib/python3.10/dist-packages/keras_tuner/engine/tuner.py\", line 214, in _build_and_fit_model\n    results = self.hypermodel.fit(hp, model, *args, **kwargs)\n  File \"/usr/local/lib/python3.10/dist-packages/keras_tuner/engine/hypermodel.py\", line 144, in fit\n    return model.fit(*args, **kwargs)\n  File \"/usr/local/lib/python3.10/dist-packages/keras/utils/traceback_utils.py\", line 70, in error_handler\n    raise e.with_traceback(filtered_tb) from None\n  File \"/usr/local/lib/python3.10/dist-packages/keras/utils/image_utils.py\", line 422, in load_img\n    with open(path, \"rb\") as f:\nFileNotFoundError: [Errno 2] No such file or directory: '/content/drive/MyDrive/COURS/CC_model/dataset/train/200e/image1099.png'\n"
          ]
        }
      ],
      "source": [
        "hypermodel = MyHyperModel(input_shape=(IMG_HEIGHT, IMG_WIDTH, 3), num_classes=nb_de_classes)\n",
        "\n",
        "tuner = RandomSearch(\n",
        "    hypermodel,\n",
        "    objective='val_accuracy',\n",
        "    max_trials=trials,\n",
        "    directory='/content/drive/MyDrive/COURS/CC_model/Ely_hyperparm',\n",
        "    project_name='trials'\n",
        ")\n",
        "\n",
        "tuner.search(train_generator, validation_data=validation_generator, epochs=EPOCHS, callbacks=callbacks)  # Ajoutez vos callbacks ici"
      ]
    },
    {
      "cell_type": "code",
      "source": [
        "# Démonter Google Drive\n",
        "drive.flush_and_unmount()\n",
        "\n",
        "# Supprimer les fichiers existants à l'emplacement de montage\n",
        "!rm -rf /content/drive\n",
        "\n",
        "# Monter Google Drive\n",
        "drive.mount('/content/drive')"
      ],
      "metadata": {
        "id": "R2iJoBs3gkwR",
        "colab": {
          "base_uri": "https://localhost:8080/"
        },
        "outputId": "31e8c38b-ec90-4ebf-93de-bc26a22f9a85"
      },
      "execution_count": null,
      "outputs": [
        {
          "output_type": "stream",
          "name": "stdout",
          "text": [
            "Drive not mounted, so nothing to flush and unmount.\n",
            "Mounted at /content/drive\n"
          ]
        }
      ]
    },
    {
      "cell_type": "code",
      "source": [
        "tuner = RandomSearch(\n",
        "    hypermodel,\n",
        "    objective='val_accuracy',\n",
        "    max_trials=trials,\n",
        "    directory='/content/drive/MyDrive/COURS/CC_model/Ely_hyperparm',  # changez 'my_dir' en 'new_directory'\n",
        "    project_name='trials'\n",
        ")\n",
        "\n",
        "tuner.reload()  # recharge les essais précédents\n",
        "tuner.search(train_generator, validation_data=validation_generator, epochs=EPOCHS, callbacks=callbacks)  # Ajoutez vos callbacks ici"
      ],
      "metadata": {
        "id": "q7LAiJd5fcYx",
        "colab": {
          "base_uri": "https://localhost:8080/"
        },
        "outputId": "ac1e629a-9fa8-49c4-9560-1240122b2df2"
      },
      "execution_count": null,
      "outputs": [
        {
          "output_type": "stream",
          "name": "stdout",
          "text": [
            "Trial 5 Complete [00h 54m 26s]\n",
            "val_accuracy: 0.9595052003860474\n",
            "\n",
            "Best val_accuracy So Far: 0.9808593988418579\n",
            "Total elapsed time: 03h 37m 27s\n"
          ]
        }
      ]
    },
    {
      "cell_type": "code",
      "execution_count": null,
      "metadata": {
        "id": "1oBLgifLhrbs",
        "colab": {
          "base_uri": "https://localhost:8080/"
        },
        "outputId": "089ad17c-e9f7-477f-86c2-7a9173e35deb"
      },
      "outputs": [
        {
          "output_type": "stream",
          "name": "stdout",
          "text": [
            "Epoch 1/5\n",
            "1120/1120 [==============================] - 651s 579ms/step - loss: 0.2561 - accuracy: 0.9692 - val_loss: 0.2274 - val_accuracy: 0.9746\n",
            "Epoch 2/5\n",
            "1120/1120 [==============================] - 645s 576ms/step - loss: 0.2405 - accuracy: 0.9710 - val_loss: 0.2173 - val_accuracy: 0.9797\n",
            "Epoch 3/5\n",
            "1120/1120 [==============================] - 652s 582ms/step - loss: 0.2273 - accuracy: 0.9737 - val_loss: 0.1950 - val_accuracy: 0.9811\n",
            "Epoch 4/5\n",
            "1120/1120 [==============================] - 648s 578ms/step - loss: 0.2073 - accuracy: 0.9771 - val_loss: 0.1671 - val_accuracy: 0.9885\n",
            "Epoch 5/5\n",
            "1120/1120 [==============================] - 658s 588ms/step - loss: 0.1931 - accuracy: 0.9778 - val_loss: 0.1682 - val_accuracy: 0.9866\n"
          ]
        }
      ],
      "source": [
        "# Obtenir le meilleur modèle\n",
        "best_model = tuner.get_best_models(num_models=1)[0]\n",
        "\n",
        "history = best_model.fit(\n",
        "    train_generator,\n",
        "    steps_per_epoch=train_generator.samples // BATCH_SIZE,\n",
        "    epochs=EPOCHS,\n",
        "    validation_data=validation_generator,\n",
        "    validation_steps=validation_generator.samples // BATCH_SIZE\n",
        ")"
      ]
    },
    {
      "cell_type": "code",
      "execution_count": null,
      "metadata": {
        "id": "ouAvMw2-hrbs",
        "colab": {
          "base_uri": "https://localhost:8080/"
        },
        "outputId": "f4bcf0f7-6cbf-42e1-ddfb-bc7cec60077c"
      },
      "outputs": [
        {
          "output_type": "stream",
          "name": "stdout",
          "text": [
            " 240/7680 [..............................] - ETA: 24:14 - loss: 0.1778 - accuracy: 0.9820"
          ]
        },
        {
          "output_type": "stream",
          "name": "stderr",
          "text": [
            "WARNING:tensorflow:Your input ran out of data; interrupting training. Make sure that your dataset or generator can generate at least `steps_per_epoch * epochs` batches (in this case, 7680 batches). You may need to use the repeat() function when building your dataset.\n"
          ]
        },
        {
          "output_type": "stream",
          "name": "stdout",
          "text": [
            "\b\b\b\b\b\b\b\b\b\b\b\b\b\b\b\b\b\b\b\b\b\b\b\b\b\b\b\b\b\b\b\b\b\b\b\b\b\b\b\b\b\b\b\b\b\b\b\b\b\b\b\b\b\b\b\b\b\b\b\b\b\b\b\b\b\b\b\b\b\b\b\b\b\b\b\b\b\b\b\b\b\b\b\b\b\b\b\b\b\r7680/7680 [==============================] - 47s 6ms/step - loss: 0.1778 - accuracy: 0.9820\n",
            "Test accuracy: 0.9820312261581421\n"
          ]
        }
      ],
      "source": [
        "test_loss, test_acc = best_model.evaluate(test_generator, steps=test_generator.samples)\n",
        "print('Test accuracy:', test_acc)"
      ]
    },
    {
      "cell_type": "code",
      "execution_count": null,
      "metadata": {
        "id": "7IL5yYA5hrbt"
      },
      "outputs": [],
      "source": [
        "best_model.save('/content/drive/MyDrive/COURS/CC_model/mon_model_mobileNet.h5')"
      ]
    },
    {
      "cell_type": "code",
      "source": [
        "# # Charger l'image\n",
        "# img = image.load_img(\"/content/drive/MyDrive/COURS/CC_model/50c.png\", target_size=(224, 224))\n",
        "\n",
        "# # Convertir l'image en tableau numpy\n",
        "# img_array = image.img_to_array(img)\n",
        "\n",
        "# # Agrandir la dimension du tableau pour correspondre à l'entrée du modèle (model.input_shape)\n",
        "# img_batch = np.expand_dims(img_array, axis=0)\n",
        "\n",
        "# # Prétraiter l'image comme le modèle s'y attend\n",
        "# img_preprocessed = img_batch / 255.  # Assurez-vous que cela correspond à votre prétraitement d'entraînement\n",
        "\n",
        "# # Faire une prédiction\n",
        "# prediction = best_model.predict(img_preprocessed)\n",
        "\n",
        "# # Obtenir l'indice de la classe prédite\n",
        "# predicted_class_index = np.argmax(prediction[0])\n",
        "\n",
        "# # Obtenir le nom de la classe prédite à partir de l'indice\n",
        "# predicted_class_name = list(train_generator.class_indices.keys())[list(train_generator.class_indices.values()).index(predicted_class_index)]\n",
        "# print(predicted_class_name)"
      ],
      "metadata": {
        "colab": {
          "base_uri": "https://localhost:8080/"
        },
        "id": "dC2vZ219Im0h",
        "outputId": "e54c662b-2c8c-48d9-b831-63e9f495db89"
      },
      "execution_count": null,
      "outputs": [
        {
          "output_type": "stream",
          "name": "stdout",
          "text": [
            "1/1 [==============================] - 0s 51ms/step\n",
            "dict_keys(['100e', '10c', '10e', '1c', '1e', '200e', '20c', '20e', '2c', '2e', '500e', '50c', '50e', '5c', '5e', 'cheque'])\n",
            "1c\n"
          ]
        }
      ]
    }
  ],
  "metadata": {
    "accelerator": "TPU",
    "colab": {
      "machine_shape": "hm",
      "provenance": [],
      "gpuType": "A100"
    },
    "kernelspec": {
      "display_name": "Python 3",
      "name": "python3"
    },
    "language_info": {
      "codemirror_mode": {
        "name": "ipython",
        "version": 3
      },
      "file_extension": ".py",
      "mimetype": "text/x-python",
      "name": "python",
      "nbconvert_exporter": "python",
      "pygments_lexer": "ipython3",
      "version": "3.11.4"
    }
  },
  "nbformat": 4,
  "nbformat_minor": 0
}